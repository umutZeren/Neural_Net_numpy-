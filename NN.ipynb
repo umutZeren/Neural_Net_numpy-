{
  "nbformat": 4,
  "nbformat_minor": 0,
  "metadata": {
    "colab": {
      "name": "Untitled2.ipynb",
      "provenance": [],
      "collapsed_sections": [],
      "authorship_tag": "ABX9TyP6zz6yySk6MUyO4i/JYLzb",
      "include_colab_link": true
    },
    "kernelspec": {
      "name": "python3",
      "display_name": "Python 3"
    },
    "language_info": {
      "name": "python"
    }
  },
  "cells": [
    {
      "cell_type": "markdown",
      "metadata": {
        "id": "view-in-github",
        "colab_type": "text"
      },
      "source": [
        "<a href=\"https://colab.research.google.com/github/umutZeren/Neural_Net_numpy-/blob/main/NN.ipynb\" target=\"_parent\"><img src=\"https://colab.research.google.com/assets/colab-badge.svg\" alt=\"Open In Colab\"/></a>"
      ]
    },
    {
      "cell_type": "code",
      "metadata": {
        "id": "oVb2HamZ5Q0f"
      },
      "source": [
        "import numpy as np\n",
        "import random"
      ],
      "execution_count": null,
      "outputs": []
    },
    {
      "cell_type": "code",
      "metadata": {
        "id": "oD_Dx7wB6c98"
      },
      "source": [
        "def sigmoid(z):\n",
        "    return 1.0/(1+np.exp(-z))"
      ],
      "execution_count": null,
      "outputs": []
    },
    {
      "cell_type": "code",
      "metadata": {
        "id": "Y5W31lNM6dU6"
      },
      "source": [
        "def sigmoid_derivative(z):\n",
        "    return z * (1.0 - z)"
      ],
      "execution_count": null,
      "outputs": []
    },
    {
      "cell_type": "code",
      "metadata": {
        "id": "ehfANnuZ6hv1"
      },
      "source": [
        "from sklearn import datasets\n",
        "import matplotlib.pyplot as plt\n",
        "iris = datasets.load_iris()"
      ],
      "execution_count": null,
      "outputs": []
    },
    {
      "cell_type": "code",
      "metadata": {
        "id": "cVyOwHhfBuO_"
      },
      "source": [
        "X=iris.data\n",
        "y=iris.target"
      ],
      "execution_count": null,
      "outputs": []
    },
    {
      "cell_type": "code",
      "metadata": {
        "id": "IoEkcA8kBvf9"
      },
      "source": [
        "from numpy.random import permutation\n",
        "perm = permutation(len(X))\n",
        "X=X[perm]\n",
        "y=y[perm]\n",
        "X_train=X[:100]\n",
        "X_test=X[101:126]\n",
        "X_validation=X[126:151]\n",
        "y_train=y[:100]\n",
        "y_test=y[101:126]\n",
        "y_validation=y[126:151]"
      ],
      "execution_count": null,
      "outputs": []
    },
    {
      "cell_type": "code",
      "metadata": {
        "id": "l2JoAcvg6e8G"
      },
      "source": [
        "class NeuralNetwork:\n",
        "    def __init__(self, inSize, sl2,clsSize, lrt): \n",
        "        # Constructor expects:\n",
        "        # inSize- input size, number of features\n",
        "        # sl2 - number of neurons in the hidden layer\n",
        "        # clsSize - number of classes, equals number of neurons in output layer\n",
        "        # lrt - learning rate\n",
        "      \n",
        "    \n",
        "        self.iSz=inSize\n",
        "        self.oSz=clsSize\n",
        "        self.hSz=sl2\n",
        "        # Initial assignment of weights \n",
        "        np.random.seed(42) ## assigning seed so it generates the same random number all the time. Just to fix the result.\n",
        "        self.weights1   = (np.random.rand(self.hSz,self.iSz)-0.5)/np.sqrt(self.iSz) \n",
        "        self.weights2   = (np.random.rand(self.oSz,self.hSz)-0.5)/np.sqrt(self.hSz) \n",
        "\n",
        "        self.output=np.zeros(clsSize)\n",
        "        \n",
        "        self.layer1=np.zeros(self.hSz)\n",
        "        self.eta=lrt\n",
        "                \n",
        "        \n",
        "        # this function send forward single sample\n",
        "    def feedforward(self, x):\n",
        "        x=np.expand_dims(x, axis=1)\n",
        "        self.layer1=sigmoid(np.dot(self.weights1,x))\n",
        "        self.output=sigmoid(np.dot(self.weights2,self.layer1))\n",
        "\n",
        "        ## Fill this function\n",
        "        \n",
        "        \n",
        "\n",
        "        # this function backpropagates errors of single sample\n",
        "    def backprop(self,x, trg):\n",
        "        m=len(x)\n",
        "        trg=np.expand_dims(trg, axis=1)\n",
        "        dz2=(trg-self.output)\n",
        "        delta2= (1/m) * np.dot(dz2,self.layer1.T)\n",
        "        dz1= np.dot(self.weights2.T,dz2)* sigmoid_derivative(self.layer1)\n",
        "        x=np.expand_dims(x, axis=1)\n",
        "        delta1=(1/m) * np.dot(dz1,x.T) \n",
        "        ## Fill this function\n",
        "       \n",
        "    \n",
        "        return delta1,delta2\n",
        "    \n",
        "    # This function is called for training the data\n",
        "    \n",
        "    def fit(self,X,y,iterNo):\n",
        "        \n",
        "        m=np.shape(X)[0]\n",
        "      \n",
        "        for i in range(iterNo):\n",
        "            D1=np.zeros(np.shape(self.weights1))\n",
        "            D2=np.zeros(np.shape(self.weights2))\n",
        "            #new_error=0\n",
        "            for j in range(m):\n",
        "                self.feedforward(X[j])\n",
        "                yt=np.zeros(self.oSz)\n",
        "                yt[int(y[j])]=1                 # the output is converted to vector, so if class of a sample is 1, then yt=[0 1 0]\n",
        "                [delta1,delta2]= self.backprop(X[j],yt)\n",
        "                D1=D1+delta1\n",
        "                D2=D2+delta2\n",
        "            self.weights1= self.weights1+self.eta*(D1/m) # weights1 are updated only ones after one epoch\n",
        "            self.weights2=self.weights2+self.eta*(D2/m)  # weights2 are updated only ones after one epoch\n",
        "          \n",
        "    # This function is called for prediction\n",
        "        \n",
        "    def predict(self,X):\n",
        "        m=np.shape(X)[0]\n",
        "        y_proba=np.zeros((m,3))\n",
        "        y=np.zeros(m)\n",
        "        \n",
        "\n",
        "        for i in range(m):\n",
        "            self.feedforward(X[i])\n",
        "            y_proba[i,:]=np.squeeze(self.output)   # the outputs of the network are the probabilities\n",
        "            #y_proba[i]=self.output\n",
        "            y[i]=np.argmax(self.output) # here we convert the probabilities to classes\n",
        "        return y, y_proba\n",
        "        "
      ],
      "execution_count": null,
      "outputs": []
    },
    {
      "cell_type": "code",
      "metadata": {
        "id": "hQVcLKBy6EFh"
      },
      "source": [
        "def accuracy(y_pred,yreal):\n",
        "  acc=0\n",
        "  for i,j  in zip(y_pred,yreal):\n",
        "    if i==j: acc+=1\n",
        "  return acc"
      ],
      "execution_count": null,
      "outputs": []
    },
    {
      "cell_type": "code",
      "metadata": {
        "colab": {
          "base_uri": "https://localhost:8080/",
          "height": 387
        },
        "id": "6NnUP60-CPQN",
        "outputId": "cf7667b8-9a21-43e5-b9d2-8fbb1193d89e"
      },
      "source": [
        "def train_and_res(hidden,eta,iternu=1000):\n",
        "  nn=NeuralNetwork(4,hidden,3,eta)\n",
        "  nn.fit(X_train,y[:100],iternu)\n",
        "  y_predt,yp_predt=nn.predict(X_test)\n",
        "  y_predv,yp_predv=nn.predict(X_validation)\n",
        "  rt=accuracy(y_predt,y_test)\n",
        "  rv=accuracy(y_predv,y_validation)\n",
        "  return rt,rv\n",
        "res_test=[]\n",
        "res_val=[]\n",
        "etas=[0.1,0.2,0.3]\n",
        "for i in etas:\n",
        "  test,val=(train_and_res(2,i))\n",
        "  res_test.append(test)\n",
        "  res_val.append(val)"
      ],
      "execution_count": null,
      "outputs": [
        {
          "output_type": "stream",
          "text": [
            "shape is (2, 4)\n",
            "shape is (3, 2)\n",
            "shape is (2, 4)\n",
            "shape is (3, 2)\n",
            "shape is (2, 4)\n",
            "shape is (3, 2)\n"
          ],
          "name": "stdout"
        },
        {
          "output_type": "execute_result",
          "data": {
            "text/plain": [
              "<matplotlib.legend.Legend at 0x7f6ec9339fd0>"
            ]
          },
          "metadata": {
            "tags": []
          },
          "execution_count": 34
        },
        {
          "output_type": "display_data",
          "data": {
            "image/png": "[encoded data removed]",
            "text/plain": [
              "<Figure size 432x288 with 1 Axes>"
            ]
          },
          "metadata": {
            "tags": [],
            "needs_background": "light"
          }
        }
      ]
    },
    {
      "cell_type": "code",
      "metadata": {
        "colab": {
          "base_uri": "https://localhost:8080/",
          "height": 279
        },
        "id": "4q_l_4MdMMjj",
        "outputId": "e8a16928-f901-4c44-9e33-d4df87bdfbbe"
      },
      "source": [
        "plt.scatter(res_test,etas,label='test')\n",
        "plt.scatter(res_val,etas,label='validation')\n",
        "plt.legend()"
      ],
      "execution_count": null,
      "outputs": [
        {
          "output_type": "execute_result",
          "data": {
            "text/plain": [
              "<matplotlib.legend.Legend at 0x7f6ec9668350>"
            ]
          },
          "metadata": {
            "tags": []
          },
          "execution_count": 61
        },
        {
          "output_type": "display_data",
          "data": {
            "image/png": "[encoded data removed]",
            "text/plain": [
              "<Figure size 432x288 with 1 Axes>"
            ]
          },
          "metadata": {
            "tags": []
          }
        }
      ]
    },
    {
      "cell_type": "code",
      "metadata": {
        "colab": {
          "base_uri": "https://localhost:8080/"
        },
        "id": "x3f2M88SGchz",
        "outputId": "8ea8a1b1-065c-4064-a1e3-81e993d0775e"
      },
      "source": [
        "res_test,res_val # for eta =0.1 0.2 0.3 respectively part 2_a"
      ],
      "execution_count": null,
      "outputs": [
        {
          "output_type": "execute_result",
          "data": {
            "text/plain": [
              "([18, 18, 18], [16, 16, 18])"
            ]
          },
          "metadata": {
            "tags": []
          },
          "execution_count": 63
        }
      ]
    },
    {
      "cell_type": "code",
      "metadata": {
        "colab": {
          "base_uri": "https://localhost:8080/"
        },
        "id": "ICGEOQL42zOo",
        "outputId": "fe261c19-1469-4b1a-ffe6-c8ffd16aee59"
      },
      "source": [
        "hidden=[2,3,4]\n",
        "res_test_hidden=[]\n",
        "rest_val_hidden=[]\n",
        "for i in hidden:\n",
        "  test,val=(train_and_res(i,0.2,iternu=500))\n",
        "  res_test_hidden.append(test)\n",
        "  rest_val_hidden.append(val)"
      ],
      "execution_count": null,
      "outputs": [
        {
          "output_type": "stream",
          "text": [
            "shape is (2, 4)\n",
            "shape is (3, 2)\n",
            "shape is (3, 4)\n",
            "shape is (3, 3)\n",
            "shape is (4, 4)\n",
            "shape is (3, 4)\n"
          ],
          "name": "stdout"
        }
      ]
    },
    {
      "cell_type": "code",
      "metadata": {
        "colab": {
          "base_uri": "https://localhost:8080/",
          "height": 279
        },
        "id": "nv09G-t1UANj",
        "outputId": "e0ed86ef-6f6c-40e7-82a4-5b502db7608c"
      },
      "source": [
        "plt.scatter(res_test_hidden,hidden,label='testh')\n",
        "plt.scatter(rest_val_hidden,hidden,label='validationh')\n",
        "plt.legend()"
      ],
      "execution_count": null,
      "outputs": [
        {
          "output_type": "execute_result",
          "data": {
            "text/plain": [
              "<matplotlib.legend.Legend at 0x7f6ec85f2f90>"
            ]
          },
          "metadata": {
            "tags": []
          },
          "execution_count": 95
        },
        {
          "output_type": "display_data",
          "data": {
            "image/png": "[encoded data removed]",
            "text/plain": [
              "<Figure size 432x288 with 1 Axes>"
            ]
          },
          "metadata": {
            "tags": []
          }
        }
      ]
    },
    {
      "cell_type": "code",
      "metadata": {
        "colab": {
          "base_uri": "https://localhost:8080/"
        },
        "id": "thbqawyP1XqX",
        "outputId": "1b9e092e-7d8e-4e8b-9ae9-543d1830ade9"
      },
      "source": [
        "res_test_hidden,rest_val_hidden"
      ],
      "execution_count": null,
      "outputs": [
        {
          "output_type": "execute_result",
          "data": {
            "text/plain": [
              "([18, 18, 18], [16, 18, 17])"
            ]
          },
          "metadata": {
            "tags": []
          },
          "execution_count": 96
        }
      ]
    },
    {
      "cell_type": "code",
      "metadata": {
        "colab": {
          "base_uri": "https://localhost:8080/"
        },
        "id": "C2Qw8IscVm3i",
        "outputId": "704440ac-09db-4370-b3f5-d9945e192700"
      },
      "source": [
        "from sklearn.metrics import confusion_matrix\n",
        "X_new = np.concatenate((X_train,X_validation))\n",
        "y_new = np.concatenate((y_train,y_validation))\n",
        "nn=NeuralNetwork(4,3,3,0.2)\n",
        "nn.fit(X_new,y_new,700)\n",
        "ypre,ypo=nn.predict(X_test)\n",
        "test=accuracy(ypre,y_test)\n",
        "print(\"acc\",test)\n",
        "print(\"confusion matrix\\n\",confusion_matrix(y_test, ypre))\n"
      ],
      "execution_count": null,
      "outputs": [
        {
          "output_type": "stream",
          "text": [
            "shape is (3, 4)\n",
            "shape is (3, 3)\n",
            "acc 20\n",
            "confusion matrix\n",
            " [[ 7  0  0]\n",
            " [ 0  2  5]\n",
            " [ 0  0 11]]\n"
          ],
          "name": "stdout"
        }
      ]
    },
    {
      "cell_type": "code",
      "metadata": {
        "colab": {
          "base_uri": "https://localhost:8080/"
        },
        "id": "lTLYru8lYqPr",
        "outputId": "7c97be1c-af04-452d-f9bf-502eb05d62e3"
      },
      "source": [
        ""
      ],
      "execution_count": null,
      "outputs": [
        {
          "output_type": "execute_result",
          "data": {
            "text/plain": [
              "(496,)"
            ]
          },
          "metadata": {
            "tags": []
          },
          "execution_count": 82
        }
      ]
    },
    {
      "cell_type": "code",
      "metadata": {
        "id": "szXWv7AD0xPg"
      },
      "source": [
        "nn=NeuralNetwork(4,4,3,0.3)\n",
        "nn.fit(X_new,y_new,1000)\n",
        "ypre,ypo=nn.predict(X_test)\n",
        "test=accuracy(ypre,y_test)"
      ],
      "execution_count": null,
      "outputs": []
    },
    {
      "cell_type": "code",
      "metadata": {
        "colab": {
          "base_uri": "https://localhost:8080/"
        },
        "id": "6iu809NuCnUF",
        "outputId": "0498348d-132d-4d19-9091-ba64271238f7"
      },
      "source": [
        ""
      ],
      "execution_count": null,
      "outputs": [
        {
          "output_type": "execute_result",
          "data": {
            "text/plain": [
              "array([5.8, 2.7, 5.1, 1.9])"
            ]
          },
          "metadata": {
            "tags": []
          },
          "execution_count": 226
        }
      ]
    },
    {
      "cell_type": "code",
      "metadata": {
        "id": "o_gy7zuMFulV"
      },
      "source": [
        ""
      ],
      "execution_count": null,
      "outputs": []
    }
  ]
}